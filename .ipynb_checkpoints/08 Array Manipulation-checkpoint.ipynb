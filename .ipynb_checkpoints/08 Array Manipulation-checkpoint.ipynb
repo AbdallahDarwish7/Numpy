{
 "cells": [
  {
   "cell_type": "code",
   "execution_count": 4,
   "metadata": {},
   "outputs": [
    {
     "name": "stdout",
     "output_type": "stream",
     "text": [
      "[[0 1 2]\n",
      " [3 4 5]\n",
      " [6 7 8]]\n",
      "[[ 9 10 11]\n",
      " [12 13 14]\n",
      " [15 16 17]]\n"
     ]
    }
   ],
   "source": [
    "import numpy as np \n",
    "A=np.arange(9).reshape(3,3)\n",
    "B=np.arange(9,18).reshape(3,3)\n",
    "print(A)\n",
    "print(B)"
   ]
  },
  {
   "cell_type": "markdown",
   "metadata": {},
   "source": [
    "## 1.Joining arrays "
   ]
  },
  {
   "cell_type": "code",
   "execution_count": 5,
   "metadata": {},
   "outputs": [
    {
     "name": "stdout",
     "output_type": "stream",
     "text": [
      "[[ 0  1  2]\n",
      " [ 3  4  5]\n",
      " [ 6  7  8]\n",
      " [ 9 10 11]\n",
      " [12 13 14]\n",
      " [15 16 17]]\n",
      "-------------\n",
      "[[ 0  1  2  9 10 11]\n",
      " [ 3  4  5 12 13 14]\n",
      " [ 6  7  8 15 16 17]]\n",
      "-------------\n",
      "[[ 0  1  2  9 10 11]\n",
      " [ 3  4  5 12 13 14]\n",
      " [ 6  7  8 15 16 17]]\n",
      "-------------\n",
      "[ 0  1  2  3  4  5  6  7  8  9 10 11 12 13 14 15 16 17]\n"
     ]
    }
   ],
   "source": [
    "# concatinate function : numpy.concatenate((a1, a2, ...), axis=0) \n",
    "#Join a sequence of arrays along an existing axis\n",
    "#Axes are defined for arrays with more than one dimension.\n",
    "#A 2-dimensional array has two corresponding axes: the first running vertically downwards across rows (axis 0)(row wise),\n",
    "#and the second running horizontally across columns (axis 1)(colunm wise).\n",
    "C=np.concatenate((A,B))\n",
    "print(C)\n",
    "print('-------------')\n",
    "C=np.concatenate((A,B),1)\n",
    "print(C)\n",
    "print('-------------')\n",
    "C=np.concatenate((A,B),-1)\n",
    "print(C)\n",
    "print('-------------')\n",
    "#if the two arrays is not the same ---> error\n",
    "#if the axis=None the array will be flatten\n",
    "C=np.concatenate((A,B),None)\n",
    "print(C)"
   ]
  },
  {
   "cell_type": "code",
   "execution_count": 7,
   "metadata": {},
   "outputs": [
    {
     "data": {
      "text/plain": [
       "array([[1],\n",
       "       [2],\n",
       "       [3]])"
      ]
     },
     "execution_count": 7,
     "metadata": {},
     "output_type": "execute_result"
    }
   ],
   "source": [
    "C=np.array([[1,2,3]])\n",
    "C.swapaxes(0,1)"
   ]
  },
  {
   "cell_type": "code",
   "execution_count": 77,
   "metadata": {},
   "outputs": [
    {
     "name": "stdout",
     "output_type": "stream",
     "text": [
      "[[[ 0  1  2]\n",
      "  [ 3  4  5]\n",
      "  [ 6  7  8]]\n",
      "\n",
      " [[ 9 10 11]\n",
      "  [12 13 14]\n",
      "  [15 16 17]]]\n",
      "-------------\n",
      "[[[ 0  1  2]\n",
      "  [ 9 10 11]]\n",
      "\n",
      " [[ 3  4  5]\n",
      "  [12 13 14]]\n",
      "\n",
      " [[ 6  7  8]\n",
      "  [15 16 17]]]\n",
      "-------------\n",
      "[[[ 0  9]\n",
      "  [ 1 10]\n",
      "  [ 2 11]]\n",
      "\n",
      " [[ 3 12]\n",
      "  [ 4 13]\n",
      "  [ 5 14]]\n",
      "\n",
      " [[ 6 15]\n",
      "  [ 7 16]\n",
      "  [ 8 17]]]\n"
     ]
    }
   ],
   "source": [
    "#Another function for joining is stack:numpy.stack((a1,a2,...),axis=0)\n",
    "#Join a sequence of arrays along a new axis.\n",
    "#The axis in the result array along which the input arrays are stacked.\n",
    "#**The stacked array has one more dimension than the input arrays.input 2D -->output 3D\n",
    "C=np.stack((A,B),axis=0)\n",
    "print(C)\n",
    "print('-------------')\n",
    "C=np.stack((A,B),axis=1)\n",
    "print(C)\n",
    "print('-------------')\n",
    "C=np.stack((A,B),axis=-1)\n",
    "print(C)"
   ]
  },
  {
   "cell_type": "code",
   "execution_count": 38,
   "metadata": {},
   "outputs": [
    {
     "name": "stdout",
     "output_type": "stream",
     "text": [
      "[[ 0  1  2  9 10 11]\n",
      " [ 3  4  5 12 13 14]\n",
      " [ 6  7  8 15 16 17]]\n",
      "---------\n",
      "[[ 0  1  2]\n",
      " [ 3  4  5]\n",
      " [ 6  7  8]\n",
      " [ 9 10 11]\n",
      " [12 13 14]\n",
      " [15 16 17]]\n",
      "---------\n"
     ]
    }
   ],
   "source": [
    "#there are subversions of stack\n",
    "#1.hstack(Stack arrays in sequence horizontally (column wise))\n",
    "#2.vstack(Stack arrays in sequence vertically (row wise))\n",
    "#3.dstack(Stack arrays in sequence depth wise (along third dimension))\n",
    "C=np.hstack((A,B))#axis=1\n",
    "print(C)\n",
    "print('---------')\n",
    "C=np.vstack((A,B))#axis=0\n",
    "print(C)\n",
    "#like concatenate function"
   ]
  },
  {
   "cell_type": "markdown",
   "metadata": {},
   "source": [
    "## 2.Appending\n",
    " **np.append(arr,obj,axis=None)**<br>\n",
    " **All input arrays must have the same dimension**"
   ]
  },
  {
   "cell_type": "code",
   "execution_count": 48,
   "metadata": {},
   "outputs": [
    {
     "name": "stdout",
     "output_type": "stream",
     "text": [
      "[0 1 2 3 4 5 6 7 8 2 5 4]\n"
     ]
    }
   ],
   "source": [
    "C=np.append(A,[2,5,4])\n",
    "print(C)"
   ]
  },
  {
   "cell_type": "code",
   "execution_count": 50,
   "metadata": {},
   "outputs": [
    {
     "name": "stdout",
     "output_type": "stream",
     "text": [
      "[[0 1 2]\n",
      " [3 4 5]\n",
      " [6 7 8]\n",
      " [2 5 7]]\n"
     ]
    }
   ],
   "source": [
    "C=np.append(A,[[2,5,7]],0)\n",
    "print(C)"
   ]
  },
  {
   "cell_type": "code",
   "execution_count": 51,
   "metadata": {},
   "outputs": [
    {
     "name": "stdout",
     "output_type": "stream",
     "text": [
      "[[0 1 2]\n",
      " [3 4 5]\n",
      " [6 7 8]\n",
      " [2 5 7]\n",
      " [2 0 1]]\n"
     ]
    }
   ],
   "source": [
    "#for row wise (axis=0) the obj must have the same number of columns\n",
    "C=np.append(A,[[2,5,7],[2,0,1]],0)\n",
    "print(C)"
   ]
  },
  {
   "cell_type": "code",
   "execution_count": 58,
   "metadata": {},
   "outputs": [
    {
     "name": "stdout",
     "output_type": "stream",
     "text": [
      "[[0 1 2 2 5]\n",
      " [3 4 5 2 0]\n",
      " [6 7 8 1 0]]\n"
     ]
    }
   ],
   "source": [
    "#for colum wise (axis=1) the obj must have the same number of rows\n",
    "C=np.append(A,[[2,5],[2,0],[1,0]],1)\n",
    "print(C)"
   ]
  },
  {
   "cell_type": "markdown",
   "metadata": {},
   "source": [
    "## 3.Inserting \n",
    "**np.insert(arr,index,obj,axis=None)**<br>\n",
    "**This function inserts values in the input array along the given axis and *before* the given index**<br>\n",
    "**Broadcasting may happen according to the input obj**"
   ]
  },
  {
   "cell_type": "code",
   "execution_count": 59,
   "metadata": {},
   "outputs": [
    {
     "name": "stdout",
     "output_type": "stream",
     "text": [
      "[ 0  1 10  2  3  4  5  6  7  8]\n"
     ]
    }
   ],
   "source": [
    "C=np.insert(A,2,[10])\n",
    "print(C)"
   ]
  },
  {
   "cell_type": "code",
   "execution_count": 60,
   "metadata": {},
   "outputs": [
    {
     "name": "stdout",
     "output_type": "stream",
     "text": [
      "[[ 0  1  2]\n",
      " [ 3  4  5]\n",
      " [10 10 10]\n",
      " [ 6  7  8]]\n"
     ]
    }
   ],
   "source": [
    "C=np.insert(A,2,[10],0)\n",
    "print(C)"
   ]
  },
  {
   "cell_type": "code",
   "execution_count": 61,
   "metadata": {},
   "outputs": [
    {
     "name": "stdout",
     "output_type": "stream",
     "text": [
      "[[ 0  1 10  2]\n",
      " [ 3  4 10  5]\n",
      " [ 6  7 10  8]]\n"
     ]
    }
   ],
   "source": [
    "C=np.insert(A,2,[10],1)\n",
    "print(C)"
   ]
  },
  {
   "cell_type": "code",
   "execution_count": 62,
   "metadata": {},
   "outputs": [
    {
     "name": "stdout",
     "output_type": "stream",
     "text": [
      "[[ 0  1 10  1  2]\n",
      " [ 3  4 11  4  5]\n",
      " [ 6  7 22  7  8]]\n"
     ]
    }
   ],
   "source": [
    "C=np.insert(A,2,[[10,11,22],[1,4,7]],1)\n",
    "print(C)"
   ]
  },
  {
   "cell_type": "markdown",
   "metadata": {},
   "source": [
    "## 3.Deleting\n",
    "**np.delet(arr,obj,axis=None)**<br>\n",
    "*This function returns a new array with the specified subarray(obj)deleted from the input array*"
   ]
  },
  {
   "cell_type": "code",
   "execution_count": 64,
   "metadata": {},
   "outputs": [
    {
     "name": "stdout",
     "output_type": "stream",
     "text": [
      "[[0 1 2]\n",
      " [3 4 5]\n",
      " [6 7 8]]\n",
      "[1 2 3 4 5 6 7 8]\n"
     ]
    }
   ],
   "source": [
    "print(A)\n",
    "A=np.delete(A,0)\n",
    "#because the axis=None the array is flatten firstly and then delete the 0\n",
    "print(A)"
   ]
  },
  {
   "cell_type": "code",
   "execution_count": 68,
   "metadata": {},
   "outputs": [
    {
     "name": "stdout",
     "output_type": "stream",
     "text": [
      "[[ 9 10 11]\n",
      " [12 13 14]\n",
      " [15 16 17]]\n",
      "[[ 9 10 11]\n",
      " [15 16 17]]\n"
     ]
    }
   ],
   "source": [
    "print(B)\n",
    "B=np.delete(B,1,0)\n",
    "print(B)"
   ]
  },
  {
   "cell_type": "markdown",
   "metadata": {},
   "source": [
    "## 4.Unique Function\n",
    "**Find the unique elements(not repeated) of an array.**<br>\n",
    "**np.unique(arr, return_index=False, return_inverse=False, return_counts=False, axis=None)**<br>\n",
    "Returns the **sorted** unique elements of an array. There are three optional\n",
    "outputs in addition to the unique elements:\n",
    "\n",
    "* the indices of the input array that give the unique values if (return_index=True)\n",
    "* the indices of the unique array that reconstruct the input array if (return_inverse=True)\n",
    "* the number of times each unique value comes up in the input array if (return_counts=True)\n"
   ]
  },
  {
   "cell_type": "code",
   "execution_count": 69,
   "metadata": {},
   "outputs": [
    {
     "name": "stdout",
     "output_type": "stream",
     "text": [
      "[1 2 3 4 5 6]\n",
      "[[1 2 3]\n",
      " [1 3 2]\n",
      " [4 5 6]]\n"
     ]
    }
   ],
   "source": [
    "A=np.array([[1,2,3],[4,5,6],[1,3,2],[1,2,3]])\n",
    "C=np.unique(A)\n",
    "print(C)\n",
    "C=np.unique(A,axis=0)\n",
    "print(C)"
   ]
  },
  {
   "cell_type": "code",
   "execution_count": 73,
   "metadata": {},
   "outputs": [
    {
     "name": "stdout",
     "output_type": "stream",
     "text": [
      "[1 2 3 4 5 6] [0 1 2 3 4 5]\n",
      "[1 2 3 4 5 6] [0 1 2 3 4 5] [0 1 2 3 4 5 0 2 1 0 1 2]\n",
      "[1 2 3 4 5 6] [3 3 3 1 1 1]\n"
     ]
    }
   ],
   "source": [
    "#The additions\n",
    "C,UI=np.unique(A,return_index=True)\n",
    "print(C,UI)\n",
    "C,UI,RI=np.unique(A,return_index=True,return_inverse=True)\n",
    "print(C,UI,RI)\n",
    "C,count=np.unique(A,return_counts=True)\n",
    "print(C,count)"
   ]
  },
  {
   "cell_type": "code",
   "execution_count": 74,
   "metadata": {},
   "outputs": [
    {
     "name": "stdout",
     "output_type": "stream",
     "text": [
      "[[1 2 3]\n",
      " [1 3 2]\n",
      " [4 5 6]] [0 2 1]\n"
     ]
    }
   ],
   "source": [
    "C,UI=np.unique(A,return_index=True,axis=0)\n",
    "print(C,UI)"
   ]
  },
  {
   "cell_type": "code",
   "execution_count": null,
   "metadata": {},
   "outputs": [],
   "source": []
  }
 ],
 "metadata": {
  "kernelspec": {
   "display_name": "Python 3",
   "language": "python",
   "name": "python3"
  },
  "language_info": {
   "codemirror_mode": {
    "name": "ipython",
    "version": 3
   },
   "file_extension": ".py",
   "mimetype": "text/x-python",
   "name": "python",
   "nbconvert_exporter": "python",
   "pygments_lexer": "ipython3",
   "version": "3.6.7"
  }
 },
 "nbformat": 4,
 "nbformat_minor": 2
}
