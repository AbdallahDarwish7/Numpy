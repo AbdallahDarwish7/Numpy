{
 "cells": [
  {
   "cell_type": "markdown",
   "metadata": {},
   "source": [
    "# Numpy(Numerical python) : \n",
    "**Is a library consisting of multidimensional array objects and a collection of routines(functions) for processing those arrays.**<br>**Using NumPy, mathematical and logical operations on arrays can be performed.**\n",
    "## Operation using numpy \n",
    "* Mathematical and logical operations on arrays.<br>\n",
    "* Fourier transforms and routines for shape manipulation.<br>\n",
    "* Operations related to linear algebra. NumPy has in-built functions for linear algebra and random number generation.<br>"
   ]
  },
  {
   "cell_type": "markdown",
   "metadata": {},
   "source": [
    "## Numpy Array object \n",
    "\n",
    "NumPy has a multidimensional array object called ndarray. It consists of two parts\n",
    "as follows:<br>\n",
    "* The actual data\n",
    "* Some metadata describing the data<br>\n",
    "The majority of array operations leave the raw data untouched. The only aspect that\n",
    "changes is the metadata."
   ]
  },
  {
   "cell_type": "code",
   "execution_count": 1,
   "metadata": {},
   "outputs": [],
   "source": [
    "#Convention to import numpy\n",
    "import numpy as np"
   ]
  },
  {
   "cell_type": "markdown",
   "metadata": {},
   "source": [
    "## Numpy - ndarray(n dimentional array) object\n"
   ]
  },
  {
   "cell_type": "code",
   "execution_count": 51,
   "metadata": {},
   "outputs": [
    {
     "name": "stdout",
     "output_type": "stream",
     "text": [
      "[[1 2 3]\n",
      " [4 5 6]\n",
      " [7 8 9]]\n",
      "[[1 2 3]]\n",
      "2\n",
      "[1 2 3]\n",
      "1\n"
     ]
    }
   ],
   "source": [
    "# Creating array of dimenion 3 for example\n",
    "A=np.array([[1,2,3],[4,5,6],[7,8,9]])\n",
    "print(A)\n",
    "#To spicify the minimum dimenion of the array we use the default parameter ndim\n",
    "B=np.array([1,2,3],ndmin=2)\n",
    "print(B)\n",
    "print(B.ndim)\n",
    "#note the difference\n",
    "B=np.array([1,2,3])\n",
    "print(B)\n",
    "print(B.ndim)"
   ]
  },
  {
   "cell_type": "markdown",
   "metadata": {},
   "source": [
    "## NumPy numerical types "
   ]
  },
  {
   "cell_type": "markdown",
   "metadata": {},
   "source": [
    "#### We use default argument (dtype) to determine the data type of elements of array \n",
    "#### There are many data types:\n",
    "|Type | Description |\n",
    "|:---|--------:|\n",
    "|bool |This stores boolean (True or False) as a bit|\n",
    "|inti |This is a platform integer (normally either int32 or int64)|\n",
    "|int8 |This is an integer ranging from-128 to 127|\n",
    "|int16 |This is an integer ranging from -32768 to 32767|\n",
    "|int32 |This is an integer ranging from -2 ** 31 to 2 ** 31 -1|\n",
    "|int64 |This is an integer ranging from -2 ** 63 to 2 ** 63 -1|\n",
    "|uint8 |This is an unsigned integer ranging from 0 to 255|\n",
    "|uint16 |This is an unsigned integer ranging from 0 to 65535|\n",
    "|uint32 |This is an unsigned integer ranging from 0 to 2 ** 32 - 1|\n",
    "|uint64 |This is an unsigned integer ranging from 0 to 2 ** 64 - 1|\n",
    "|float16 |This is a half precision float with sign bit, 5 bits exponent, and 10 bits mantissa|\n",
    "|float32 |This is a single precision float with sign bit, 8 bits exponent, and 23 bits mantissa|\n",
    "|float64 or float |This is a double precision float with sign bit, 11 bits exponent, and52 bits mantissa|\n",
    "|complex64|This is a complex number represented by two 32-bit floats (real and imaginary components)|\n",
    "|complex128 or complex|This is a complex number represented by two 64-bit floats (real and imaginary components)|"
   ]
  },
  {
   "cell_type": "markdown",
   "metadata": {},
   "source": [
    "**Each built-in data type has a character code that uniquely identifies it**"
   ]
  },
  {
   "cell_type": "markdown",
   "metadata": {},
   "source": [
    "'b' − boolean\n",
    "\n",
    "'i' − (signed) integer\n",
    "\n",
    "'u' − unsigned integer\n",
    "\n",
    "'f' − floating-point\n",
    "\n",
    "'d' − double\n",
    "\n",
    "'c' − complex-floating point\n",
    "\n",
    "'m' − timedelta\n",
    "\n",
    "'M' − datetime\n",
    "\n",
    "'O' − (Python) objects\n",
    "\n",
    "'S', 'a' − (byte-)string\n",
    "\n",
    "'U' − Unicode\n",
    "\n",
    "'V' − raw data (void)"
   ]
  },
  {
   "cell_type": "code",
   "execution_count": 7,
   "metadata": {},
   "outputs": [
    {
     "data": {
      "text/plain": [
       "(5.0, 15.0, (1+0j), True, 44)"
      ]
     },
     "execution_count": 7,
     "metadata": {},
     "output_type": "execute_result"
    }
   ],
   "source": [
    "#For each data type, there exists a corresponding conversion function\n",
    "np.float(5),np.float128(15),np.complex128(1),np.bool(2),np.int64(44.2)"
   ]
  },
  {
   "cell_type": "code",
   "execution_count": 9,
   "metadata": {},
   "outputs": [],
   "source": [
    "#It is important to know that you are not allowed to convert a complex number into\n",
    "#an integer type number. \n",
    "np.int64(1+2j) #error"
   ]
  },
  {
   "cell_type": "code",
   "execution_count": 24,
   "metadata": {},
   "outputs": [
    {
     "name": "stdout",
     "output_type": "stream",
     "text": [
      "[1 2 3]\n",
      "[1.+2.j 3.+3.j 4.+5.j]\n",
      "complex128\n",
      "[1.+2.j 3.+3.j 4.+5.j]\n"
     ]
    }
   ],
   "source": [
    "#An example \n",
    "#Note to access these type use\n",
    "#np.type or \"type\"\n",
    "C=np.array([1,2,3],dtype=\"uint8\")\n",
    "print(C)\n",
    "D=np.array([1+2j,3+3j,4+5j])\n",
    "print(D)\n",
    "print(D.dtype)\n",
    "D=np.array([1+2j,3+3j,4+5j],dtype=np.complex64)\n",
    "print(D)"
   ]
  },
  {
   "cell_type": "markdown",
   "metadata": {},
   "source": [
    "## dtype constructors"
   ]
  },
  {
   "cell_type": "code",
   "execution_count": 24,
   "metadata": {},
   "outputs": [
    {
     "data": {
      "text/plain": [
       "(dtype('int16'), dtype('int8'), dtype('int16'), dtype('int32'), dtype('int32'))"
      ]
     },
     "execution_count": 24,
     "metadata": {},
     "output_type": "execute_result"
    }
   ],
   "source": [
    "np.dtype(np.int16) "
   ]
  },
  {
   "cell_type": "code",
   "execution_count": 25,
   "metadata": {},
   "outputs": [
    {
     "data": {
      "text/plain": [
       "(dtype('int8'), dtype('int16'), dtype('int32'), dtype('int32'))"
      ]
     },
     "execution_count": 25,
     "metadata": {},
     "output_type": "execute_result"
    }
   ],
   "source": [
    "#We can give a data type constructor a two-character code. The first character\n",
    "#signifies the type, and the second character is a number specifying the\n",
    "#number of bytes in the data type\n",
    "np.dtype('i1'),np.dtype('i2'),np.dtype('i4'),np.dtype('i')"
   ]
  },
  {
   "cell_type": "code",
   "execution_count": 26,
   "metadata": {},
   "outputs": [
    {
     "data": {
      "text/plain": [
       "(dtype('float32'), dtype('float64'))"
      ]
     },
     "execution_count": 26,
     "metadata": {},
     "output_type": "execute_result"
    }
   ],
   "source": [
    "np.dtype('f'),np.dtype('f8')"
   ]
  },
  {
   "cell_type": "code",
   "execution_count": 13,
   "metadata": {},
   "outputs": [
    {
     "data": {
      "text/plain": [
       "dtype('float64')"
      ]
     },
     "execution_count": 13,
     "metadata": {},
     "output_type": "execute_result"
    }
   ],
   "source": [
    "np.dtype('d')"
   ]
  },
  {
   "cell_type": "markdown",
   "metadata": {},
   "source": [
    "## Creating a record data type\n",
    "A record data type is a heterogeneous data type"
   ]
  },
  {
   "cell_type": "code",
   "execution_count": 40,
   "metadata": {},
   "outputs": [
    {
     "name": "stdout",
     "output_type": "stream",
     "text": [
      "('abdullah', 2, 19)\n",
      "[('abdullah', 2, 19) ('ahmed', 1, 20) ('reham', 2, 17)]\n",
      "['abdullah' 'ahmed' 'reham']\n"
     ]
    }
   ],
   "source": [
    "#Like struct in C we create our structed data type \n",
    "# we use np.dtype function\n",
    "student=np.dtype([('name',np.str,10),('class',np.int8),('mark',np.uint16)])\n",
    "#when we enter the elements of the array we must enter every element of the array as a tuple of three elements \n",
    "students=np.array([(\"abdullah\",2,19),('ahmed',1,20),('reham',2,17)],dtype=student)\n",
    "print(students[0])\n",
    "print(students)\n",
    "print(students['name'])"
   ]
  },
  {
   "cell_type": "markdown",
   "metadata": {},
   "source": [
    "\n",
    "|/|name|class|mark|\n",
    "|-|---|-----|----|\n",
    "|0|abdullah|2|19|\n",
    "|1|ahmed|1|20|\n",
    "|2|reham|2|17|"
   ]
  },
  {
   "cell_type": "code",
   "execution_count": null,
   "metadata": {},
   "outputs": [],
   "source": []
  }
 ],
 "metadata": {
  "kernelspec": {
   "display_name": "Python 3",
   "language": "python",
   "name": "python3"
  },
  "language_info": {
   "codemirror_mode": {
    "name": "ipython",
    "version": 3
   },
   "file_extension": ".py",
   "mimetype": "text/x-python",
   "name": "python",
   "nbconvert_exporter": "python",
   "pygments_lexer": "ipython3",
   "version": "3.6.7"
  }
 },
 "nbformat": 4,
 "nbformat_minor": 2
}
