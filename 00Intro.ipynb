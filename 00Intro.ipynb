{
 "cells": [
  {
   "cell_type": "markdown",
   "metadata": {},
   "source": [
    "# Numpy(Numerical python ) : \n",
    "**Is a library consisting of multidimensional array objects and a collection of routines(functions) for processing those arrays.**<br>**Using NumPy, mathematical and logical operations on arrays can be performed.**\n",
    "## Operation using numpy \n",
    "-Mathematical and logical operations on arrays.<br>\n",
    "-Fourier transforms and routines for shape manipulation.<br>\n",
    "-Operations related to linear algebra. NumPy has in-built functions for linear algebra and random number generation.<br>"
   ]
  },
  {
   "cell_type": "code",
   "execution_count": 1,
   "metadata": {},
   "outputs": [],
   "source": [
    "#Convention to import numpy\n",
    "import numpy as np"
   ]
  },
  {
   "cell_type": "markdown",
   "metadata": {},
   "source": [
    "## Numpy - ndarray(n dimentional array) object\n"
   ]
  },
  {
   "cell_type": "code",
   "execution_count": 51,
   "metadata": {},
   "outputs": [
    {
     "name": "stdout",
     "output_type": "stream",
     "text": [
      "[[1 2 3]\n",
      " [4 5 6]\n",
      " [7 8 9]]\n",
      "[[1 2 3]]\n",
      "2\n",
      "[1 2 3]\n",
      "1\n"
     ]
    }
   ],
   "source": [
    "# Creating array of dimenion 3 for example\n",
    "A=np.array([[1,2,3],[4,5,6],[7,8,9]])\n",
    "print(A)\n",
    "#To spicify the minimum dimenion of the array we use the default parameter ndim\n",
    "B=np.array([1,2,3],ndmin=2)\n",
    "print(B)\n",
    "print(B.ndim)\n",
    "#note the difference\n",
    "B=np.array([1,2,3])\n",
    "print(B)\n",
    "print(B.ndim)"
   ]
  },
  {
   "cell_type": "markdown",
   "metadata": {},
   "source": [
    "### Data types of element(dtype)"
   ]
  },
  {
   "cell_type": "markdown",
   "metadata": {},
   "source": [
    "#### We use default argument(dtype) to determine the data type of elements of array \n",
    "#### There are many data types:\n",
    "These types defined in numpy<br>\n",
    "like bool_ ,int8 and uint8,int16 and uint16 ,and so on<br>\n",
    "float16,float32,float64,float_(Shorthand for float64)<br>\n",
    "complex64,complex128,complex_(Shorthand for complex128)<br>"
   ]
  },
  {
   "cell_type": "code",
   "execution_count": 24,
   "metadata": {},
   "outputs": [
    {
     "name": "stdout",
     "output_type": "stream",
     "text": [
      "[1 2 3]\n",
      "[1.+2.j 3.+3.j 4.+5.j]\n",
      "complex128\n",
      "[1.+2.j 3.+3.j 4.+5.j]\n"
     ]
    }
   ],
   "source": [
    "#An example \n",
    "#Note to access these type use\n",
    "#np.type or \"type\"\n",
    "C=np.array([1,2,3],dtype=\"uint8\")\n",
    "print(C)\n",
    "D=np.array([1+2j,3+3j,4+5j])\n",
    "print(D)\n",
    "print(D.dtype)\n",
    "D=np.array([1+2j,3+3j,4+5j],dtype=np.complex64)\n",
    "print(D)"
   ]
  },
  {
   "cell_type": "markdown",
   "metadata": {},
   "source": [
    "# Creating our data type "
   ]
  },
  {
   "cell_type": "code",
   "execution_count": 50,
   "metadata": {},
   "outputs": [
    {
     "name": "stdout",
     "output_type": "stream",
     "text": [
      "[(b'abdullah', 2, 19) (b'ahmed', 1, 20) (b'reham', 2, 17)]\n",
      "[b'abdullah' b'ahmed' b'reham']\n"
     ]
    }
   ],
   "source": [
    "#Like struct in C we create our structed data type \n",
    "# we use np.dtype function\n",
    "student=np.dtype([('name','S10'),('class',np.int8),('mark',np.uint16)])\n",
    "#when we enter the elements of the array we must enter every element of the array as a tuple of three elements \n",
    "students=np.array([(\"abdullah\",2,19),('ahmed',1,20),('reham',2,17)],dtype=student)\n",
    "print(students)\n",
    "print(students['name'])"
   ]
  },
  {
   "cell_type": "markdown",
   "metadata": {},
   "source": [
    "**Each built-in data type has a character code that uniquely identifies it**"
   ]
  },
  {
   "cell_type": "markdown",
   "metadata": {},
   "source": [
    "'b' − boolean\n",
    "\n",
    "'i' − (signed) integer\n",
    "\n",
    "'u' − unsigned integer\n",
    "\n",
    "'f' − floating-point\n",
    "\n",
    "'c' − complex-floating point\n",
    "\n",
    "'m' − timedelta\n",
    "\n",
    "'M' − datetime\n",
    "\n",
    "'O' − (Python) objects\n",
    "\n",
    "'S', 'a' − (byte-)string\n",
    "\n",
    "'U' − Unicode\n",
    "\n",
    "'V' − raw data (void)"
   ]
  },
  {
   "cell_type": "code",
   "execution_count": null,
   "metadata": {},
   "outputs": [],
   "source": []
  }
 ],
 "metadata": {
  "kernelspec": {
   "display_name": "Python 3",
   "language": "python",
   "name": "python3"
  },
  "language_info": {
   "codemirror_mode": {
    "name": "ipython",
    "version": 3
   },
   "file_extension": ".py",
   "mimetype": "text/x-python",
   "name": "python",
   "nbconvert_exporter": "python",
   "pygments_lexer": "ipython3",
   "version": "3.7.0"
  }
 },
 "nbformat": 4,
 "nbformat_minor": 2
}
